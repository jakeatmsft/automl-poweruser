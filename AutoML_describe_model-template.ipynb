{
  "cells": [
    {
      "cell_type": "code",
      "source": [
        "import logging\r\n",
        "\r\n",
        "from matplotlib import pyplot as plt\r\n",
        "import pandas as pd\r\n",
        "import os\r\n",
        "\r\n",
        "import azureml.core\r\n",
        "from azureml.core.experiment import Experiment\r\n",
        "from azureml.core.workspace import Workspace\r\n",
        "from azureml.automl.core.featurization import FeaturizationConfig\r\n",
        "from azureml.core.dataset import Dataset\r\n",
        "from azureml.train.automl import AutoMLConfig\r\n",
        "from azureml.interpret import ExplanationClient"
      ],
      "outputs": [],
      "execution_count": null,
      "metadata": {
        "collapsed": true,
        "jupyter": {
          "source_hidden": false,
          "outputs_hidden": false
        },
        "nteract": {
          "transient": {
            "deleting": false
          }
        }
      }
    },
    {
      "cell_type": "code",
      "source": [
        "from azureml.core import Workspace, Dataset\r\n",
        "\r\n",
        "subscription_id = '###subscription-id'\r\n",
        "resource_group = '###resource-group'\r\n",
        "workspace_name = '###ml-workspace'\r\n",
        "\r\n",
        "ws = Workspace(subscription_id, resource_group, workspace_name)\r\n",
        "\r\n",
        "exp = ws.experiments['###experiment-name']\r\n",
        "\r\n",
        "e = list(exp.get_runs())[0]\r\n",
        "print(e)"
      ],
      "outputs": [],
      "execution_count": null,
      "metadata": {
        "gather": {
          "logged": 1626360267379
        }
      }
    },
    {
      "cell_type": "code",
      "source": [
        "aml_run_details = e.get_details()\r\n",
        "aml_run_details"
      ],
      "outputs": [],
      "execution_count": null,
      "metadata": {
        "collapsed": true,
        "jupyter": {
          "source_hidden": false,
          "outputs_hidden": false
        },
        "nteract": {
          "transient": {
            "deleting": false
          }
        },
        "gather": {
          "logged": 1626360267655
        }
      }
    },
    {
      "cell_type": "code",
      "source": [
        "#By default gets the best performing model\r\n",
        "aml_run = list(ws.experiments['##experiment-name'].get_runs())[0]\r\n",
        "best_run, fitted_model = aml_run.get_output()"
      ],
      "outputs": [],
      "execution_count": null,
      "metadata": {
        "collapsed": true,
        "jupyter": {
          "source_hidden": false,
          "outputs_hidden": false
        },
        "nteract": {
          "transient": {
            "deleting": false
          }
        },
        "gather": {
          "logged": 1626360270226
        }
      }
    },
    {
      "cell_type": "code",
      "source": [
        "import pandas as pd\r\n",
        "\r\n",
        "out=pd.DataFrame()\r\n",
        "\r\n",
        "# Retrieve accuracy metrics for automl experiment\r\n",
        "for child in (aml_run.get_children()) :\r\n",
        "    if(('run_algorithm' in child.get_details()['properties']) and ('accuracy' in child.get_metrics())):\r\n",
        "        model_output = {\r\n",
        "            'iteration': [int(child.get_details()['properties']['iteration'])],\r\n",
        "            'run_id' : child.id,\r\n",
        "            'algo': [child.get_details()['properties']['run_algorithm']],\r\n",
        "            'accuracy': [child.get_metrics()['accuracy']]\r\n",
        "        }\r\n",
        "        #print(model_output)\r\n",
        "        out = pd.concat([out,pd.DataFrame.from_dict(model_output)])\r\n",
        "\r\n",
        "out = out.reset_index()\r\n",
        "out\r\n",
        "    "
      ],
      "outputs": [],
      "execution_count": null,
      "metadata": {
        "collapsed": true,
        "jupyter": {
          "source_hidden": false,
          "outputs_hidden": false
        },
        "nteract": {
          "transient": {
            "deleting": false
          }
        },
        "gather": {
          "logged": 1626360469099
        }
      }
    },
    {
      "cell_type": "code",
      "source": [
        "import seaborn as sns\r\n",
        "import matplotlib as plt\r\n",
        "\r\n",
        "#plot accuracy acreoss auto-ml runs\r\n",
        "sns.set(rc={'figure.figsize':(11.7,8.27)})\r\n",
        "sns.lineplot(data = out,x='iteration', y='accuracy', hue='algo', style='algo', markers=True)"
      ],
      "outputs": [],
      "execution_count": null,
      "metadata": {
        "collapsed": true,
        "jupyter": {
          "source_hidden": false,
          "outputs_hidden": false
        },
        "nteract": {
          "transient": {
            "deleting": false
          }
        },
        "gather": {
          "logged": 1626294649724
        }
      }
    },
    {
      "cell_type": "code",
      "source": [
        "# retrieve the most accurate XGBoostClassifier model\r\n",
        "best_xgb = (out[out['algo'] == 'XGBoostClassifier'].sort_values(by='accuracy', ascending=False)).head(1)\r\n",
        "\r\n",
        "best_run, fitted_xgbmodel = aml_run.get_output(int(best_xgb['iteration']))"
      ],
      "outputs": [],
      "execution_count": null,
      "metadata": {
        "collapsed": true,
        "jupyter": {
          "source_hidden": false,
          "outputs_hidden": false
        },
        "nteract": {
          "transient": {
            "deleting": false
          }
        },
        "gather": {
          "logged": 1626280723539
        }
      }
    },
    {
      "cell_type": "markdown",
      "source": [
        "# Print model details "
      ],
      "metadata": {
        "nteract": {
          "transient": {
            "deleting": false
          }
        }
      }
    },
    {
      "cell_type": "code",
      "source": [
        "from pprint import pprint\r\n",
        "\r\n",
        "def print_model(model, prefix=\"\"):\r\n",
        "    for step in model.steps:\r\n",
        "        print(prefix + step[0])\r\n",
        "        if hasattr(step[1], 'estimators') and hasattr(step[1], 'weights'):\r\n",
        "            pprint({'estimators': list(\r\n",
        "                e[0] for e in step[1].estimators), 'weights': step[1].weights})\r\n",
        "            print()\r\n",
        "            for estimator in step[1].estimators:\r\n",
        "                print_model(estimator[1], estimator[0] + ' - ')\r\n",
        "        else:\r\n",
        "            pprint(step[1].get_params())\r\n",
        "            print()\r\n",
        "\r\n",
        "print_model(fitted_xgbmodel)"
      ],
      "outputs": [],
      "execution_count": null,
      "metadata": {
        "collapsed": true,
        "jupyter": {
          "source_hidden": false,
          "outputs_hidden": false
        },
        "nteract": {
          "transient": {
            "deleting": false
          }
        },
        "gather": {
          "logged": 1626280728215
        }
      }
    }
  ],
  "metadata": {
    "kernelspec": {
      "name": "python3-azureml",
      "language": "python",
      "display_name": "Python 3.6 - AzureML"
    },
    "language_info": {
      "name": "python",
      "version": "3.6.9",
      "mimetype": "text/x-python",
      "codemirror_mode": {
        "name": "ipython",
        "version": 3
      },
      "pygments_lexer": "ipython3",
      "nbconvert_exporter": "python",
      "file_extension": ".py"
    },
    "kernel_info": {
      "name": "python3-azureml"
    },
    "nteract": {
      "version": "nteract-front-end@1.0.0"
    },
    "microsoft": {
      "host": {
        "AzureML": {
          "notebookHasBeenCompleted": true
        }
      }
    }
  },
  "nbformat": 4,
  "nbformat_minor": 2
}
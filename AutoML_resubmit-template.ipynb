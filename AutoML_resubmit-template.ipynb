{
  "cells": [
    {
      "cell_type": "code",
      "source": [
        "import logging\r\n",
        "\r\n",
        "from matplotlib import pyplot as plt\r\n",
        "import pandas as pd\r\n",
        "import os\r\n",
        "\r\n",
        "import azureml.core\r\n",
        "from azureml.core.experiment import Experiment\r\n",
        "from azureml.core.workspace import Workspace\r\n",
        "from azureml.automl.core.featurization import FeaturizationConfig\r\n",
        "from azureml.core.dataset import Dataset\r\n",
        "from azureml.train.automl import AutoMLConfig\r\n",
        "from azureml.interpret import ExplanationClient"
      ],
      "outputs": [],
      "execution_count": null,
      "metadata": {
        "collapsed": true,
        "jupyter": {
          "source_hidden": false,
          "outputs_hidden": false
        },
        "nteract": {
          "transient": {
            "deleting": false
          }
        }
      }
    },
    {
      "cell_type": "code",
      "source": [
        "from azureml.core import Workspace, Dataset\r\n",
        "\r\n",
        "subscription_id = '###subscription-id'\r\n",
        "resource_group = '###resource-group'\r\n",
        "workspace_name = '###ml-workspace'\r\n",
        "\r\n",
        "ws = Workspace(subscription_id, resource_group, workspace_name)\r\n",
        "\r\n",
        "exp = ws.experiments['###experiment-name']\r\n",
        "\r\n",
        "e = list(exp.get_runs())[0]\r\n",
        "print(e)"
      ],
      "outputs": [],
      "execution_count": null,
      "metadata": {
        "gather": {
          "logged": 1626214987466
        }
      }
    },
    {
      "cell_type": "code",
      "source": [
        "aml_run_details = e.get_details()\r\n",
        "aml_run_details"
      ],
      "outputs": [],
      "execution_count": null,
      "metadata": {
        "collapsed": true,
        "jupyter": {
          "source_hidden": false,
          "outputs_hidden": false
        },
        "nteract": {
          "transient": {
            "deleting": false
          }
        },
        "gather": {
          "logged": 1626214991217
        }
      }
    },
    {
      "cell_type": "code",
      "source": [
        "import json\r\n",
        "\r\n",
        "aml_properties = aml_run_details['properties']\r\n",
        "aml_settings = json.loads(aml_properties['AMLSettingsJsonString'])\r\n",
        "aml_settings\r\n"
      ],
      "outputs": [],
      "execution_count": null,
      "metadata": {
        "collapsed": true,
        "jupyter": {
          "source_hidden": false,
          "outputs_hidden": false
        },
        "nteract": {
          "transient": {
            "deleting": false
          }
        },
        "gather": {
          "logged": 1625679456950
        }
      }
    },
    {
      "cell_type": "code",
      "source": [
        "print(aml_properties['DataPrepJsonString'])\r\n",
        "datasets = json.loads(aml_properties['DataPrepJsonString'].replace(\"\\\\\",\"\"))\r\n",
        "training_ds_id =  datasets['training_data']['datasetId']\r\n",
        "training_ds = Dataset.get_by_id(ws, training_ds_id)\r\n",
        "print(training_ds)"
      ],
      "outputs": [],
      "execution_count": null,
      "metadata": {
        "collapsed": true,
        "jupyter": {
          "source_hidden": false,
          "outputs_hidden": false
        },
        "nteract": {
          "transient": {
            "deleting": false
          }
        },
        "gather": {
          "logged": 1625679271066
        }
      }
    },
    {
      "cell_type": "code",
      "source": [
        "#Override parameters for new run\r\n",
        "aml_settings['compute_target'] = '##Compute-target'\r\n",
        "aml_settings['blacklist_algos'] = ['TensorFlowLinearClassifier', 'TensorFlowDNN', 'LinearSVM', 'AveragedPerceptronClassifier']\r\n",
        "\r\n",
        "\r\n",
        "automl_config = AutoMLConfig(task=aml_settings['task_type'],\r\n",
        "                            training_data = training_ds,\r\n",
        "                             **aml_settings\r\n",
        "                            )\r\n"
      ],
      "outputs": [],
      "execution_count": null,
      "metadata": {
        "collapsed": true,
        "jupyter": {
          "source_hidden": false,
          "outputs_hidden": false
        },
        "nteract": {
          "transient": {
            "deleting": false
          }
        },
        "gather": {
          "logged": 1625679614424
        }
      }
    },
    {
      "cell_type": "markdown",
      "source": [
        "# Uncomment below to submit experiment "
      ],
      "metadata": {
        "nteract": {
          "transient": {
            "deleting": false
          }
        }
      }
    },
    {
      "cell_type": "code",
      "source": [
        "#remote_run = exp.submit(automl_config, show_output = False)"
      ],
      "outputs": [],
      "execution_count": null,
      "metadata": {
        "collapsed": true,
        "jupyter": {
          "source_hidden": false,
          "outputs_hidden": false
        },
        "nteract": {
          "transient": {
            "deleting": false
          }
        },
        "gather": {
          "logged": 1625679703987
        }
      }
    },
    {
      "cell_type": "code",
      "source": [
        "#remote_run.wait_for_completion()"
      ],
      "outputs": [],
      "execution_count": null,
      "metadata": {
        "collapsed": true,
        "jupyter": {
          "source_hidden": false,
          "outputs_hidden": false
        },
        "nteract": {
          "transient": {
            "deleting": false
          }
        }
      }
    },
    {
      "cell_type": "markdown",
      "source": [
        "# Change feature settings for next AutoML experiment"
      ],
      "metadata": {
        "nteract": {
          "transient": {
            "deleting": false
          }
        }
      }
    },
    {
      "cell_type": "code",
      "source": [
        "from azureml.automl.core.featurization import FeaturizationConfig\r\n",
        "\r\n",
        "featurization_config = FeaturizationConfig()\r\n",
        "\r\n",
        "featurization_config.add_column_purpose('column_1', 'Categorical')\r\n",
        "featurization_config.add_column_purpose('column_2','Numeric')"
      ],
      "outputs": [],
      "execution_count": null,
      "metadata": {
        "collapsed": true,
        "jupyter": {
          "source_hidden": false,
          "outputs_hidden": false
        },
        "nteract": {
          "transient": {
            "deleting": false
          }
        }
      }
    },
    {
      "cell_type": "code",
      "source": [
        "#Override parameters for new run\r\n",
        "aml_settings['compute_target'] = '###Compute-Target'\r\n",
        "aml_settings['blacklist_algos'] = ['TensorFlowLinearClassifier', 'TensorFlowDNN', 'LinearSVM', 'AveragedPerceptronClassifier']\r\n",
        "aml_settings['featurization'] = featurization_config\r\n",
        "\r\n",
        "\r\n",
        "automl_config = AutoMLConfig(task=aml_settings['task_type'],\r\n",
        "                            training_data = training_ds,\r\n",
        "                             **aml_settings\r\n",
        "                            )\r\n"
      ],
      "outputs": [],
      "execution_count": null,
      "metadata": {
        "collapsed": true,
        "jupyter": {
          "source_hidden": false,
          "outputs_hidden": false
        },
        "nteract": {
          "transient": {
            "deleting": false
          }
        }
      }
    }
  ],
  "metadata": {
    "kernelspec": {
      "name": "python3-azureml",
      "language": "python",
      "display_name": "Python 3.6 - AzureML"
    },
    "language_info": {
      "name": "python",
      "version": "3.6.9",
      "mimetype": "text/x-python",
      "codemirror_mode": {
        "name": "ipython",
        "version": 3
      },
      "pygments_lexer": "ipython3",
      "nbconvert_exporter": "python",
      "file_extension": ".py"
    },
    "kernel_info": {
      "name": "python3-azureml"
    },
    "nteract": {
      "version": "nteract-front-end@1.0.0"
    },
    "microsoft": {
      "host": {
        "AzureML": {
          "notebookHasBeenCompleted": true
        }
      }
    }
  },
  "nbformat": 4,
  "nbformat_minor": 2
}